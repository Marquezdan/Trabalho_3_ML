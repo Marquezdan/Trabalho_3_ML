{
  "nbformat": 4,
  "nbformat_minor": 0,
  "metadata": {
    "colab": {
      "provenance": [],
      "authorship_tag": "ABX9TyPoywwD5CU3fouzVteHnLrZ",
      "include_colab_link": true
    },
    "kernelspec": {
      "name": "python3",
      "display_name": "Python 3"
    },
    "language_info": {
      "name": "python"
    }
  },
  "cells": [
    {
      "cell_type": "markdown",
      "metadata": {
        "id": "view-in-github",
        "colab_type": "text"
      },
      "source": [
        "<a href=\"https://colab.research.google.com/github/Marquezdan/Trabalho_3_ML/blob/main/EWMA_Gradients.ipynb\" target=\"_parent\"><img src=\"https://colab.research.google.com/assets/colab-badge.svg\" alt=\"Open In Colab\"/></a>"
      ]
    },
    {
      "cell_type": "code",
      "execution_count": 1,
      "metadata": {
        "colab": {
          "base_uri": "https://localhost:8080/"
        },
        "id": "D5_buNRzmht9",
        "outputId": "838a7293-447d-4b29-baa1-984910736a02"
      },
      "outputs": [
        {
          "output_type": "stream",
          "name": "stdout",
          "text": [
            "Valores originais: [1, 2, 3, 2, 2, 5, 4]\n",
            "EWMA: [0.1  0.29 0.56 0.7  0.83 1.25 1.53]\n"
          ]
        }
      ],
      "source": [
        "import numpy as np\n",
        "\n",
        "values = [1, 2, 3, 2, 2, 5, 4]  # Exemplo de valores (podem ser gradientes)\n",
        "beta = 0.9\n",
        "ema = []\n",
        "s_t = 0\n",
        "\n",
        "for v in values:\n",
        "    s_t = beta * s_t + (1 - beta) * v\n",
        "    ema.append(s_t)\n",
        "\n",
        "print(\"Valores originais:\", values)\n",
        "print(\"EWMA:\", np.round(ema, 2))\n"
      ]
    }
  ]
}